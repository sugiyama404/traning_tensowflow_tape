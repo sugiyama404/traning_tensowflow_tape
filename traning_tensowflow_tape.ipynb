{
 "cells": [
  {
   "cell_type": "code",
   "execution_count": 1,
   "id": "10cc2f01",
   "metadata": {},
   "outputs": [],
   "source": [
    "import tensorflow as tf\n",
    "import numpy as np"
   ]
  },
  {
   "cell_type": "markdown",
   "id": "76112cd2",
   "metadata": {},
   "source": [
    "演算の途中でも、numpy のデータを扱うように、自由に値を見る事が出来ます。"
   ]
  },
  {
   "cell_type": "code",
   "execution_count": 2,
   "id": "76484649",
   "metadata": {},
   "outputs": [
    {
     "data": {
      "text/plain": [
       "True"
      ]
     },
     "execution_count": 2,
     "metadata": {},
     "output_type": "execute_result"
    }
   ],
   "source": [
    "tf.executing_eagerly()"
   ]
  },
  {
   "cell_type": "code",
   "execution_count": 3,
   "id": "37468414",
   "metadata": {},
   "outputs": [
    {
     "name": "stdout",
     "output_type": "stream",
     "text": [
      "tf.Tensor(8.0, shape=(), dtype=float32)\n",
      "tf.Tensor(16.0, shape=(), dtype=float32)\n"
     ]
    }
   ],
   "source": [
    "x = tf.constant(8.0) # 8.0, shape=()\n",
    "print(x)\n",
    "with tf.GradientTape() as t:\n",
    "    t.watch(x)\n",
    "    y = x * x\n",
    "    # 元の入力テンソル x に対する y の微分\n",
    "    dy_dx = t.gradient(y, x) # 16.0, shape=()\n",
    "print(dy_dx)"
   ]
  },
  {
   "cell_type": "code",
   "execution_count": 4,
   "id": "8b398eab",
   "metadata": {},
   "outputs": [
    {
     "name": "stdout",
     "output_type": "stream",
     "text": [
      "tf.Tensor(3.0, shape=(), dtype=float32)\n",
      "tf.Tensor(6.0, shape=(), dtype=float32)\n",
      "tf.Tensor(2.0, shape=(), dtype=float32)\n"
     ]
    }
   ],
   "source": [
    "x = tf.constant(3.0) # 3.0, shape=()\n",
    "print(x)\n",
    "with tf.GradientTape() as t:\n",
    "    t.watch(x)\n",
    "    with tf.GradientTape() as tt:\n",
    "        tt.watch(x)\n",
    "        y = x * x\n",
    "        dy_dx = tt.gradient(y, x) # 6.0, shape=()\n",
    "        dy2_dx2 = t.gradient(dy_dx, x) # 2.0, shape=()\n",
    "print(dy_dx)\n",
    "print(dy2_dx2)"
   ]
  },
  {
   "cell_type": "markdown",
   "id": "5d6e63bb",
   "metadata": {},
   "source": [
    "reduce_sum = 配列内のすべての要素を足し算する関数。<br>\n",
    "multiply = テンソルの要素の掛け算です。"
   ]
  },
  {
   "cell_type": "code",
   "execution_count": 5,
   "id": "dcc13941",
   "metadata": {},
   "outputs": [
    {
     "name": "stdout",
     "output_type": "stream",
     "text": [
      "tf.Tensor(4.0, shape=(), dtype=float32)\n",
      "tf.Tensor(16.0, shape=(), dtype=float32)\n",
      "tf.Tensor(\n",
      "[[8. 8.]\n",
      " [8. 8.]], shape=(2, 2), dtype=float32)\n"
     ]
    }
   ],
   "source": [
    "x = tf.ones((2, 2)) # x = [[1. 1.] [1. 1.]]\n",
    "with tf.GradientTape() as t:\n",
    "    # xを監視対象にしている。\n",
    "    t.watch(x)\n",
    "    y = tf.reduce_sum(x) # 4.0, shape=()\n",
    "    z = tf.multiply(y, y) # 16.0, shape=()\n",
    "dz_dx = t.gradient(z, x) # [[8. 8.] [8. 8.]], shape=(2, 2)\n",
    "\n",
    "# 元の入力テンソル x に対する z の微分\n",
    "print(y)\n",
    "print(z)\n",
    "print(dz_dx) # [[8. 8.] [8. 8.]], shape=(2, 2)"
   ]
  },
  {
   "cell_type": "code",
   "execution_count": 6,
   "id": "165bf326",
   "metadata": {},
   "outputs": [
    {
     "name": "stdout",
     "output_type": "stream",
     "text": [
      "tf.Tensor(8.0, shape=(), dtype=float32)\n",
      "tf.Tensor(8.0, shape=(), dtype=float32)\n",
      "tf.Tensor(1.0, shape=(), dtype=float32)\n"
     ]
    }
   ],
   "source": [
    "x = tf.constant(8.0) # 8.0, shape=()\n",
    "print(x)\n",
    "with tf.GradientTape() as t:\n",
    "    t.watch(x)\n",
    "    y = x\n",
    "    dy_dx = t.gradient(y, x) # 1.0, shape=()\n",
    "print(y)\n",
    "print(dy_dx)"
   ]
  },
  {
   "cell_type": "code",
   "execution_count": 7,
   "id": "4385ffa2",
   "metadata": {},
   "outputs": [
    {
     "name": "stdout",
     "output_type": "stream",
     "text": [
      "(10, 45)\n"
     ]
    }
   ],
   "source": [
    "i, x, N = 0, 0, 10\n",
    "while i < N:\n",
    "    i, x = i + 1, x + i\n",
    "print((i, x))"
   ]
  },
  {
   "cell_type": "code",
   "execution_count": 8,
   "id": "60e4a875",
   "metadata": {},
   "outputs": [
    {
     "name": "stdout",
     "output_type": "stream",
     "text": [
      "update  = 0 0\n",
      "update  = 1 0\n",
      "update  = 2 1\n",
      "update  = 3 3\n",
      "update  = 4 6\n",
      "update  = 5 10\n",
      "update  = 6 15\n",
      "update  = 7 21\n",
      "update  = 8 28\n",
      "update  = 9 36\n"
     ]
    },
    {
     "data": {
      "text/plain": [
       "(<tf.Tensor: shape=(), dtype=int32, numpy=10>,\n",
       " <tf.Tensor: shape=(), dtype=int32, numpy=45>)"
      ]
     },
     "execution_count": 8,
     "metadata": {},
     "output_type": "execute_result"
    }
   ],
   "source": [
    "def condition(i, x):\n",
    "    return i < 10\n",
    "\n",
    "def update(i, x):\n",
    "    print('update  =',i, x)\n",
    "    return i + 1, i + x\n",
    "\n",
    "init_val = (0, 0)\n",
    "tf.while_loop(cond=condition, body=update, loop_vars=init_val)"
   ]
  },
  {
   "cell_type": "code",
   "execution_count": 9,
   "id": "7a6a3b0e",
   "metadata": {},
   "outputs": [
    {
     "name": "stdout",
     "output_type": "stream",
     "text": [
      "tf.Tensor(0, shape=(), dtype=int32)\n",
      "tf.Tensor(1, shape=(), dtype=int32)\n",
      "tf.Tensor(2, shape=(), dtype=int32)\n",
      "tf.Tensor(3, shape=(), dtype=int32)\n",
      "tf.Tensor(4, shape=(), dtype=int32)\n",
      "tf.Tensor(5, shape=(), dtype=int32)\n",
      "tf.Tensor(6, shape=(), dtype=int32)\n",
      "tf.Tensor(7, shape=(), dtype=int32)\n",
      "tf.Tensor(8, shape=(), dtype=int32)\n",
      "tf.Tensor(9, shape=(), dtype=int32)\n"
     ]
    },
    {
     "data": {
      "text/plain": [
       "(<tf.Tensor: shape=(), dtype=int32, numpy=10>,)"
      ]
     },
     "execution_count": 9,
     "metadata": {},
     "output_type": "execute_result"
    }
   ],
   "source": [
    "i = tf.constant(0)\n",
    "c = lambda i: tf.less(i, 10)\n",
    "# b = lambda i: (tf.add(i, 1), )\n",
    "def b(i):\n",
    "    print(i)\n",
    "    return (tf.add(i, 1), )\n",
    "tf.while_loop(c, b, [i])"
   ]
  },
  {
   "cell_type": "markdown",
   "id": "9c36d995",
   "metadata": {},
   "source": [
    "unique_with_counts = テンソルの要素の数を取得する<br>\n",
    "uniqueTimes = [0.1 1.5 1.9] ユニークな要素の数<br>\n",
    "uniqueIndices = [0 0 1 2 2 2] ユニークなインデックスをふる。 <br>\n",
    "counts = [2 1 3] ユニークな要素数<br>\n",
    "gather_nd = params からスライスを収集し、 indices で指定された形状のTensorに入れます。<br>"
   ]
  },
  {
   "cell_type": "code",
   "execution_count": 10,
   "id": "1c214c8e",
   "metadata": {},
   "outputs": [
    {
     "data": {
      "text/plain": [
       "<tf.Tensor: shape=(6,), dtype=float32, numpy=array([1.05, 1.75, 0.28, 1.3 , 2.7 , 3.5 ], dtype=float32)>"
      ]
     },
     "execution_count": 10,
     "metadata": {},
     "output_type": "execute_result"
    }
   ],
   "source": [
    "import tensorflow as tf\n",
    "\n",
    "times = tf.constant([0.1, 0.1, 1.5, 1.9, 1.9, 1.9])\n",
    "posit = tf.constant([2.1, 3.5, 0.4, 1.3, 2.7, 3.5])\n",
    "\n",
    "vel = tf.constant([0.5,0.7,1.0])\n",
    "\n",
    "uniqueTimes, uniqueIndices, counts = tf.unique_with_counts(times)\n",
    "\n",
    "tf.gather_nd(vel,uniqueIndices[:,None])*posit"
   ]
  },
  {
   "cell_type": "markdown",
   "id": "d4ecfbf3",
   "metadata": {},
   "source": [
    "gather_nd = テンソルと、そのテンソル内の位置を表すインデックスを提供します。指定したインデックスに対応するテンソルの要素を返します。"
   ]
  },
  {
   "cell_type": "code",
   "execution_count": 11,
   "id": "451e7140",
   "metadata": {},
   "outputs": [
    {
     "data": {
      "text/plain": [
       "(5, 6)"
      ]
     },
     "execution_count": 11,
     "metadata": {},
     "output_type": "execute_result"
    }
   ],
   "source": [
    "# テンソルと、そのテンソル内の位置を表すインデックスを提供します。指定したインデックスに対応するテンソルの要素を返します。\n",
    "x = [[1,2,3],[4,5,6]]\n",
    "y = tf.gather_nd(x, [[1,1],[1,2]]) # <tf.Tensor: shape=(2,), dtype=int32, numpy=array([5, 6], dtype=int32)>\n",
    "y = y.numpy()\n",
    "y[0], y[1]"
   ]
  },
  {
   "cell_type": "code",
   "execution_count": 12,
   "id": "1cc82f79",
   "metadata": {},
   "outputs": [
    {
     "data": {
      "text/plain": [
       "<tf.Tensor: shape=(6,), dtype=float32, numpy=\n",
       "array([ 0.31    ,  0.23    ,  2.1     , 10.349999, 15.84    ,  3.72    ],\n",
       "      dtype=float32)>"
      ]
     },
     "execution_count": 12,
     "metadata": {},
     "output_type": "execute_result"
    }
   ],
   "source": [
    "x = tf.constant([0.1, 0.1, 1.5, 4.5, 3.6, 1.2])\n",
    "y = tf.constant([3.1, 2.3, 1.4, 2.3, 4.4, 3.1])\n",
    "\n",
    "uniqueIndices = tf.constant([0, 1, 2, 3, 4, 5])\n",
    "\n",
    "x = tf.gather_nd(x, uniqueIndices[:,None])\n",
    "y = tf.gather_nd(y, uniqueIndices[:,None])\n",
    "\n",
    "tf.multiply(x, y) # shape=(6,), array([ 0.31    ,  0.23    ,  2.1     , 10.349999, 15.84    ,  3.72    ])"
   ]
  },
  {
   "cell_type": "markdown",
   "id": "14866801",
   "metadata": {},
   "source": [
    "再帰関数(Recursive function)"
   ]
  },
  {
   "cell_type": "code",
   "execution_count": 13,
   "id": "65afc4e6",
   "metadata": {},
   "outputs": [
    {
     "name": "stdout",
     "output_type": "stream",
     "text": [
      "1 1 1\n",
      "2 5 5\n",
      "3 9 9\n",
      "4 13 13\n",
      "5 17 17\n"
     ]
    }
   ],
   "source": [
    "def recurrence(n):\n",
    "    if n ==1:\n",
    "        return 1\n",
    "    else:\n",
    "        return recurrence(n-1)+4\n",
    "    \n",
    "for i in range(1,6):\n",
    "    print(i,recurrence(i),4*i-3)"
   ]
  },
  {
   "cell_type": "code",
   "execution_count": 33,
   "id": "4afb33a6",
   "metadata": {
    "collapsed": true
   },
   "outputs": [
    {
     "name": "stdout",
     "output_type": "stream",
     "text": [
      "[0.1 1.  0.5 1.  1.  1.  1.  1.  0.4 0.3 1.  1. ] 0.775\n",
      "[0.1        0.28414312 0.28414312 0.28414312 0.28414312 0.28414312\n",
      " 0.28414312 0.28414312 0.28414312 0.28414312 0.28414312 0.28414312] 0.2687978569208676\n",
      "[0.1        0.17713827 0.17713827 0.17713827 0.17713827 0.17713827\n",
      " 0.17713827 0.17713827 0.17713827 0.17713827 0.17713827 0.17713827] 0.1707100785307387\n",
      "[0.1        0.13231352 0.13231352 0.13231352 0.13231352 0.13231352\n",
      " 0.13231352 0.13231352 0.13231352 0.13231352 0.13231352 0.13231352] 0.12962072680915127\n",
      "[0.1        0.11353626 0.11353626 0.11353626 0.11353626 0.11353626\n",
      " 0.11353626 0.11353626 0.11353626 0.11353626 0.11353626 0.11353626] 0.11240823762232084\n",
      "[0.1        0.10567039 0.10567039 0.10567039 0.10567039 0.10567039\n",
      " 0.10567039 0.10567039 0.10567039 0.10567039 0.10567039 0.10567039] 0.10519785898178607\n",
      "[0.1        0.10237535 0.10237535 0.10237535 0.10237535 0.10237535\n",
      " 0.10237535 0.10237535 0.10237535 0.10237535 0.10237535 0.10237535] 0.10217740333614607\n",
      "[0.1        0.10099504 0.10099504 0.10099504 0.10099504 0.10099504\n",
      " 0.10099504 0.10099504 0.10099504 0.10099504 0.10099504 0.10099504] 0.10091212272300447\n",
      "[0.1        0.10041683 0.10041683 0.10041683 0.10041683 0.10041683\n",
      " 0.10041683 0.10041683 0.10041683 0.10041683 0.10041683 0.10041683] 0.10038209175489449\n",
      "[0.1        0.10017461 0.10017461 0.10017461 0.10017461 0.10017461\n",
      " 0.10017461 0.10017461 0.10017461 0.10017461 0.10017461 0.10017461] 0.10016005972165394\n",
      "[0.1        0.10007315 0.10007315 0.10007315 0.10007315 0.10007315\n",
      " 0.10007315 0.10007315 0.10007315 0.10007315 0.10007315 0.10007315] 0.10006704963969455\n",
      "[0.1        0.10003064 0.10003064 0.10003064 0.10003064 0.10003064\n",
      " 0.10003064 0.10003064 0.10003064 0.10003064 0.10003064 0.10003064] 0.10002808735474929\n",
      "[0.1        0.10001284 0.10001284 0.10001284 0.10001284 0.10001284\n",
      " 0.10001284 0.10001284 0.10001284 0.10001284 0.10001284 0.10001284] 0.10001176590210487\n",
      "[0.1        0.10000538 0.10000538 0.10000538 0.10000538 0.10000538\n",
      " 0.10000538 0.10000538 0.10000538 0.10000538 0.10000538 0.10000538] 0.10000492878213618\n",
      "[0.1        0.10000225 0.10000225 0.10000225 0.10000225 0.10000225\n",
      " 0.10000225 0.10000225 0.10000225 0.10000225 0.10000225 0.10000225] 0.10000206468599938\n",
      "[0.1        0.10000094 0.10000094 0.10000094 0.10000094 0.10000094\n",
      " 0.10000094 0.10000094 0.10000094 0.10000094 0.10000094 0.10000094] 0.10000086490499242\n",
      "[0.1       0.1000004 0.1000004 0.1000004 0.1000004 0.1000004 0.1000004\n",
      " 0.1000004 0.1000004 0.1000004 0.1000004 0.1000004] 0.10000036231206394\n",
      "[0.1        0.10000017 0.10000017 0.10000017 0.10000017 0.10000017\n",
      " 0.10000017 0.10000017 0.10000017 0.10000017 0.10000017 0.10000017] 0.10000015177393222\n",
      "[0.1        0.10000007 0.10000007 0.10000007 0.10000007 0.10000007\n",
      " 0.10000007 0.10000007 0.10000007 0.10000007 0.10000007 0.10000007] 0.10000006357869028\n",
      "[0.1        0.10000003 0.10000003 0.10000003 0.10000003 0.10000003\n",
      " 0.10000003 0.10000003 0.10000003 0.10000003 0.10000003 0.10000003] 0.10000002663336054\n",
      "[0.1        0.10000001 0.10000001 0.10000001 0.10000001 0.10000001\n",
      " 0.10000001 0.10000001 0.10000001 0.10000001 0.10000001 0.10000001] 0.10000001115681828\n",
      "[0.1        0.10000001 0.10000001 0.10000001 0.10000001 0.10000001\n",
      " 0.10000001 0.10000001 0.10000001 0.10000001 0.10000001 0.10000001] 0.10000000467363457\n",
      "[0.1 0.1 0.1 0.1 0.1 0.1 0.1 0.1 0.1 0.1 0.1 0.1] 0.10000000195780367\n",
      "[0.1 0.1 0.1 0.1 0.1 0.1 0.1 0.1 0.1 0.1 0.1 0.1] 0.10000000082013162\n",
      "[0.1 0.1 0.1 0.1 0.1 0.1 0.1 0.1 0.1 0.1 0.1 0.1] 0.10000000034355631\n",
      "[0.1 0.1 0.1 0.1 0.1 0.1 0.1 0.1 0.1 0.1 0.1 0.1] 0.10000000014391706\n",
      "[0.1 0.1 0.1 0.1 0.1 0.1 0.1 0.1 0.1 0.1 0.1 0.1] 0.10000000006028743\n",
      "[0.1 0.1 0.1 0.1 0.1 0.1 0.1 0.1 0.1 0.1 0.1 0.1] 0.10000000002525467\n",
      "[0.1 0.1 0.1 0.1 0.1 0.1 0.1 0.1 0.1 0.1 0.1 0.1] 0.10000000001057929\n",
      "[0.1 0.1 0.1 0.1 0.1 0.1 0.1 0.1 0.1 0.1 0.1 0.1] 0.10000000000443171\n",
      "[0.1 0.1 0.1 0.1 0.1 0.1 0.1 0.1 0.1 0.1 0.1 0.1] 0.10000000000185645\n",
      "[0.1 0.1 0.1 0.1 0.1 0.1 0.1 0.1 0.1 0.1 0.1 0.1] 0.10000000000077769\n",
      "[0.1 0.1 0.1 0.1 0.1 0.1 0.1 0.1 0.1 0.1 0.1 0.1] 0.10000000000032583\n",
      "[0.1 0.1 0.1 0.1 0.1 0.1 0.1 0.1 0.1 0.1 0.1 0.1] 0.10000000000013652\n",
      "[0.1 0.1 0.1 0.1 0.1 0.1 0.1 0.1 0.1 0.1 0.1 0.1] 0.10000000000005715\n",
      "[0.1 0.1 0.1 0.1 0.1 0.1 0.1 0.1 0.1 0.1 0.1 0.1] 0.10000000000002392\n",
      "[0.1 0.1 0.1 0.1 0.1 0.1 0.1 0.1 0.1 0.1 0.1 0.1] 0.10000000000000998\n",
      "[0.1 0.1 0.1 0.1 0.1 0.1 0.1 0.1 0.1 0.1 0.1 0.1] 0.10000000000000418\n",
      "[0.1 0.1 0.1 0.1 0.1 0.1 0.1 0.1 0.1 0.1 0.1 0.1] 0.10000000000000175\n",
      "[0.1 0.1 0.1 0.1 0.1 0.1 0.1 0.1 0.1 0.1 0.1 0.1] 0.10000000000000071\n"
     ]
    }
   ],
   "source": [
    "x = np.array([0.1, 1.2, 0.5, 4.5, 3.6, 1.2, 3.1, 2.3, 0.4, 0.3, 4.4, 3.1])\n",
    "\n",
    "def select_min(a, b):\n",
    "    if a > b:\n",
    "        return b\n",
    "    return a\n",
    "\n",
    "arg = 1.0\n",
    "for i in range(400):\n",
    "    num = np.array([])\n",
    "    for x_f in x:\n",
    "        p = select_min(arg, x_f)\n",
    "        num = np.append(num, np.array(p))\n",
    "    arg = np.mean(num)\n",
    "    if i % 10 == 0:\n",
    "        print(num, arg)"
   ]
  },
  {
   "cell_type": "code",
   "execution_count": 38,
   "id": "90f0931a",
   "metadata": {},
   "outputs": [
    {
     "data": {
      "text/plain": [
       "(1.0, 1.4)"
      ]
     },
     "execution_count": 38,
     "metadata": {},
     "output_type": "execute_result"
    }
   ],
   "source": [
    "a = tf.constant([1, 10, 26.9, 2.8, 166.32, 62.3])\n",
    "b = tf.constant([3.1, 2.3, 1.4, 2.3, 4.4, 3.1])\n",
    "a_arr = tf.sort(a).numpy()\n",
    "b_arr = tf.sort(b).numpy()\n",
    "\n",
    "a_arr[0], b_arr[0]"
   ]
  },
  {
   "cell_type": "code",
   "execution_count": 48,
   "id": "2e9ed8ae",
   "metadata": {},
   "outputs": [
    {
     "data": {
      "text/plain": [
       "(<tf.Tensor: shape=(), dtype=int32, numpy=2>,\n",
       " <tf.Tensor: shape=(), dtype=int32, numpy=34>)"
      ]
     },
     "execution_count": 48,
     "metadata": {},
     "output_type": "execute_result"
    }
   ],
   "source": [
    "x = tf.constant(2)\n",
    "y = tf.constant(5)\n",
    "def f1(): return tf.multiply(x, 17)\n",
    "def f2(): return tf.add(y, 23)\n",
    "r = tf.cond(tf.less(x, y), f1, f2)\n",
    "# rはf1（）に設定されます。\n",
    "# f2の操作（例：tf.add）は実行されません。\n",
    "x,r"
   ]
  },
  {
   "cell_type": "code",
   "execution_count": 70,
   "id": "d4e279ba",
   "metadata": {},
   "outputs": [
    {
     "name": "stdout",
     "output_type": "stream",
     "text": [
      "tf.Tensor(10.0, shape=(), dtype=float32)\n"
     ]
    }
   ],
   "source": [
    "@tf.function\n",
    "def mini_func(x):\n",
    "    return x * x\n",
    "\n",
    "x = tf.constant(5.0)\n",
    "with tf.GradientTape() as t:\n",
    "    t.watch(x)\n",
    "    result = mini_func(x)\n",
    "    dy_dx = t.gradient(result, x)\n",
    "print(dy_dx) # tf.Tensor(10.0, shape=(), dtype=float32)"
   ]
  },
  {
   "cell_type": "code",
   "execution_count": 71,
   "id": "b9c6a3aa",
   "metadata": {},
   "outputs": [
    {
     "name": "stdout",
     "output_type": "stream",
     "text": [
      "tf.Tensor(10.0, shape=(), dtype=float32)\n"
     ]
    }
   ],
   "source": [
    "@tf.function\n",
    "def mini_func(x):\n",
    "  return x * x\n",
    "\n",
    "x = tf.Variable(5.0)\n",
    "with tf.GradientTape() as t:\n",
    "  result = mini_func(x)\n",
    "dy_dx = t.gradient(result, x)\n",
    "print(dy_dx) # tf.Tensor(10.0, shape=(), dtype=float32)"
   ]
  },
  {
   "cell_type": "code",
   "execution_count": 74,
   "id": "b7681e14",
   "metadata": {},
   "outputs": [
    {
     "data": {
      "text/plain": [
       "12.0"
      ]
     },
     "execution_count": 74,
     "metadata": {},
     "output_type": "execute_result"
    }
   ],
   "source": [
    "def f(x, y):\n",
    "  output = 1.0\n",
    "  for i in range(y):\n",
    "    if i > 1 and i < 5:\n",
    "      output = tf.multiply(output, x)\n",
    "  return output\n",
    "\n",
    "def grad(x, y):\n",
    "  with tf.GradientTape() as t:\n",
    "    t.watch(x)\n",
    "    out = f(x, y)\n",
    "  return t.gradient(out, x) \n",
    "\n",
    "x = tf.convert_to_tensor(2.0)\n",
    "grad(x, 6).numpy() # 12.0"
   ]
  },
  {
   "cell_type": "code",
   "execution_count": null,
   "id": "d64a75b3",
   "metadata": {},
   "outputs": [],
   "source": []
  },
  {
   "cell_type": "code",
   "execution_count": null,
   "id": "8221689c",
   "metadata": {},
   "outputs": [],
   "source": []
  },
  {
   "cell_type": "code",
   "execution_count": null,
   "id": "9c9f0c96",
   "metadata": {},
   "outputs": [],
   "source": []
  }
 ],
 "metadata": {
  "kernelspec": {
   "display_name": "Python 3",
   "language": "python",
   "name": "python3"
  },
  "language_info": {
   "codemirror_mode": {
    "name": "ipython",
    "version": 3
   },
   "file_extension": ".py",
   "mimetype": "text/x-python",
   "name": "python",
   "nbconvert_exporter": "python",
   "pygments_lexer": "ipython3",
   "version": "3.9.2"
  }
 },
 "nbformat": 4,
 "nbformat_minor": 5
}
